{
 "cells": [
  {
   "cell_type": "code",
   "execution_count": 1,
   "metadata": {},
   "outputs": [],
   "source": [
    "import pandas as pd\n",
    "import altair as alt\n",
    "from datetime import datetime, timedelta\n",
    "import re\n",
    "import july\n",
    "import matplotlib"
   ]
  },
  {
   "cell_type": "code",
   "execution_count": 2,
   "metadata": {},
   "outputs": [
    {
     "data": {
      "text/html": [
       "<div>\n",
       "<style scoped>\n",
       "    .dataframe tbody tr th:only-of-type {\n",
       "        vertical-align: middle;\n",
       "    }\n",
       "\n",
       "    .dataframe tbody tr th {\n",
       "        vertical-align: top;\n",
       "    }\n",
       "\n",
       "    .dataframe thead th {\n",
       "        text-align: right;\n",
       "    }\n",
       "</style>\n",
       "<table border=\"1\" class=\"dataframe\">\n",
       "  <thead>\n",
       "    <tr style=\"text-align: right;\">\n",
       "      <th></th>\n",
       "      <th>country</th>\n",
       "      <th>DATE</th>\n",
       "      <th>PAPER</th>\n",
       "      <th>HEADLINE</th>\n",
       "      <th>TONE</th>\n",
       "      <th>SUMMARY</th>\n",
       "      <th>Quotation doc?</th>\n",
       "      <th>ANALYSIS</th>\n",
       "      <th>OFFENSE</th>\n",
       "      <th>NOTES</th>\n",
       "      <th>LINK</th>\n",
       "      <th>SAME AS...?</th>\n",
       "      <th>Date</th>\n",
       "    </tr>\n",
       "  </thead>\n",
       "  <tbody>\n",
       "    <tr>\n",
       "      <th>0</th>\n",
       "      <td>Australia</td>\n",
       "      <td>21 March 1890</td>\n",
       "      <td>Evening News</td>\n",
       "      <td>WATER.</td>\n",
       "      <td>factual</td>\n",
       "      <td>Constable Blackburn on his way to NZ to extrad...</td>\n",
       "      <td>FALSE</td>\n",
       "      <td>NaN</td>\n",
       "      <td>bigamy</td>\n",
       "      <td>NaN</td>\n",
       "      <td>http://nla.gov.au/nla.news-article108799724</td>\n",
       "      <td>NaN</td>\n",
       "      <td>1890-03-21</td>\n",
       "    </tr>\n",
       "    <tr>\n",
       "      <th>1</th>\n",
       "      <td>Australia</td>\n",
       "      <td>21 March 1890</td>\n",
       "      <td>The Australian Star</td>\n",
       "      <td>M'LEOD, M.D., D.D. Two Warrants Out. Back From...</td>\n",
       "      <td>satirical</td>\n",
       "      <td>\"May\" (error) Cameron has issued warrant for a...</td>\n",
       "      <td>TRUE</td>\n",
       "      <td>NaN</td>\n",
       "      <td>bigamy, criminal assault</td>\n",
       "      <td>NaN</td>\n",
       "      <td>http://nla.gov.au/nla.news-article230620621</td>\n",
       "      <td>NaN</td>\n",
       "      <td>1890-03-21</td>\n",
       "    </tr>\n",
       "    <tr>\n",
       "      <th>2</th>\n",
       "      <td>Australia</td>\n",
       "      <td>22 March 1890</td>\n",
       "      <td>The Australian Star</td>\n",
       "      <td>M'LEOD, M.D., D.D. Two Warrants Out.</td>\n",
       "      <td>satirical</td>\n",
       "      <td>\"May\" (error) Cameron has issued warrant for a...</td>\n",
       "      <td>FALSE</td>\n",
       "      <td>NaN</td>\n",
       "      <td>bigamy, criminal assault</td>\n",
       "      <td>NaN</td>\n",
       "      <td>\\nhttp://nla.gov.au/nla.news-article230611457\\n</td>\n",
       "      <td>21 March 1890, The Australian Star, 'M'Leod, M...</td>\n",
       "      <td>1890-03-22</td>\n",
       "    </tr>\n",
       "    <tr>\n",
       "      <th>3</th>\n",
       "      <td>Australia</td>\n",
       "      <td>22 March 1890</td>\n",
       "      <td>The North West Post</td>\n",
       "      <td>NEW SOUTH WALES. SYDNEY, March 21.</td>\n",
       "      <td>factual</td>\n",
       "      <td>Dr McLeod arrested in NZ</td>\n",
       "      <td>FALSE</td>\n",
       "      <td>NaN</td>\n",
       "      <td>bigamy, criminal assault</td>\n",
       "      <td>NaN</td>\n",
       "      <td>http://nla.gov.au/nla.news-article198890050</td>\n",
       "      <td>NaN</td>\n",
       "      <td>1890-03-22</td>\n",
       "    </tr>\n",
       "    <tr>\n",
       "      <th>4</th>\n",
       "      <td>Australia</td>\n",
       "      <td>22 March 1890</td>\n",
       "      <td>Barrier Miner</td>\n",
       "      <td>A Fashionable Bigamist. SYDNEY, Saturday.</td>\n",
       "      <td>factual</td>\n",
       "      <td>McLeod arrested in NZ for 'a serious offence u...</td>\n",
       "      <td>FALSE</td>\n",
       "      <td>NaN</td>\n",
       "      <td>attempted rape (implied), bigamy</td>\n",
       "      <td>mentions the 'serious offence upon a girl' fir...</td>\n",
       "      <td>http://nla.gov.au/nla.news-article44048607</td>\n",
       "      <td>NaN</td>\n",
       "      <td>1890-03-22</td>\n",
       "    </tr>\n",
       "    <tr>\n",
       "      <th>...</th>\n",
       "      <td>...</td>\n",
       "      <td>...</td>\n",
       "      <td>...</td>\n",
       "      <td>...</td>\n",
       "      <td>...</td>\n",
       "      <td>...</td>\n",
       "      <td>...</td>\n",
       "      <td>...</td>\n",
       "      <td>...</td>\n",
       "      <td>...</td>\n",
       "      <td>...</td>\n",
       "      <td>...</td>\n",
       "      <td>...</td>\n",
       "    </tr>\n",
       "    <tr>\n",
       "      <th>834</th>\n",
       "      <td>New_Zealand</td>\n",
       "      <td>21 July 1919</td>\n",
       "      <td>New Zealand Times</td>\n",
       "      <td>CRIME OF BIGAMY</td>\n",
       "      <td>factual</td>\n",
       "      <td>summary of legal debate and reference to M'Leo...</td>\n",
       "      <td>no</td>\n",
       "      <td>NaN</td>\n",
       "      <td>bigamy</td>\n",
       "      <td>NaN</td>\n",
       "      <td>https://paperspast.natlib.govt.nz/newspapers/N...</td>\n",
       "      <td>NaN</td>\n",
       "      <td>1919-07-21</td>\n",
       "    </tr>\n",
       "    <tr>\n",
       "      <th>835</th>\n",
       "      <td>New_Zealand</td>\n",
       "      <td>22 July 1919</td>\n",
       "      <td>Wanganui Chronicle</td>\n",
       "      <td>IS BIGAMY A CRIME?</td>\n",
       "      <td>factual</td>\n",
       "      <td>summary of legal debate and reference to M'Leo...</td>\n",
       "      <td>no</td>\n",
       "      <td>NaN</td>\n",
       "      <td>bigamy</td>\n",
       "      <td>NaN</td>\n",
       "      <td>https://paperspast.natlib.govt.nz/newspapers/W...</td>\n",
       "      <td>NaN</td>\n",
       "      <td>1919-07-22</td>\n",
       "    </tr>\n",
       "    <tr>\n",
       "      <th>836</th>\n",
       "      <td>New_Zealand</td>\n",
       "      <td>31 July 1919</td>\n",
       "      <td>Evening Star</td>\n",
       "      <td>THE LAW OF BIGAMY</td>\n",
       "      <td>factual</td>\n",
       "      <td>lengthy account of judges' decision that bigam...</td>\n",
       "      <td>yes</td>\n",
       "      <td>NaN</td>\n",
       "      <td>bigamy</td>\n",
       "      <td>NaN</td>\n",
       "      <td>https://paperspast.natlib.govt.nz/newspapers/E...</td>\n",
       "      <td>NaN</td>\n",
       "      <td>1919-07-31</td>\n",
       "    </tr>\n",
       "    <tr>\n",
       "      <th>837</th>\n",
       "      <td>New_Zealand</td>\n",
       "      <td>29 March 1920</td>\n",
       "      <td>Evening Star</td>\n",
       "      <td>The Evening Star MONDAY, MARCH 29, 1920.</td>\n",
       "      <td>factual</td>\n",
       "      <td>summarising legal argument from July 1919, the...</td>\n",
       "      <td>no</td>\n",
       "      <td>NaN</td>\n",
       "      <td>bigamy</td>\n",
       "      <td>NaN</td>\n",
       "      <td>\\nhttps://paperspast.natlib.govt.nz/newspapers...</td>\n",
       "      <td>NaN</td>\n",
       "      <td>1920-03-29</td>\n",
       "    </tr>\n",
       "    <tr>\n",
       "      <th>838</th>\n",
       "      <td>New_Zealand</td>\n",
       "      <td>9 December 1924</td>\n",
       "      <td>Otago Witness</td>\n",
       "      <td>BIGAMY AND THE LAW.</td>\n",
       "      <td>satirical</td>\n",
       "      <td>debate about whether marriage not formed on th...</td>\n",
       "      <td>yes</td>\n",
       "      <td>NaN</td>\n",
       "      <td>bigamy</td>\n",
       "      <td>NaN</td>\n",
       "      <td>\\nhttps://paperspast.natlib.govt.nz/newspapers...</td>\n",
       "      <td>NaN</td>\n",
       "      <td>1924-12-09</td>\n",
       "    </tr>\n",
       "  </tbody>\n",
       "</table>\n",
       "<p>839 rows × 13 columns</p>\n",
       "</div>"
      ],
      "text/plain": [
       "         country             DATE                PAPER  \\\n",
       "0      Australia    21 March 1890         Evening News   \n",
       "1      Australia    21 March 1890  The Australian Star   \n",
       "2      Australia    22 March 1890  The Australian Star   \n",
       "3      Australia    22 March 1890  The North West Post   \n",
       "4      Australia    22 March 1890        Barrier Miner   \n",
       "..           ...              ...                  ...   \n",
       "834  New_Zealand     21 July 1919    New Zealand Times   \n",
       "835  New_Zealand     22 July 1919   Wanganui Chronicle   \n",
       "836  New_Zealand     31 July 1919         Evening Star   \n",
       "837  New_Zealand    29 March 1920         Evening Star   \n",
       "838  New_Zealand  9 December 1924        Otago Witness   \n",
       "\n",
       "                                              HEADLINE       TONE  \\\n",
       "0                                               WATER.    factual   \n",
       "1    M'LEOD, M.D., D.D. Two Warrants Out. Back From...  satirical   \n",
       "2                 M'LEOD, M.D., D.D. Two Warrants Out.  satirical   \n",
       "3                   NEW SOUTH WALES. SYDNEY, March 21.    factual   \n",
       "4            A Fashionable Bigamist. SYDNEY, Saturday.    factual   \n",
       "..                                                 ...        ...   \n",
       "834                                    CRIME OF BIGAMY    factual   \n",
       "835                                 IS BIGAMY A CRIME?    factual   \n",
       "836                                  THE LAW OF BIGAMY    factual   \n",
       "837           The Evening Star MONDAY, MARCH 29, 1920.    factual   \n",
       "838                                BIGAMY AND THE LAW.  satirical   \n",
       "\n",
       "                                               SUMMARY Quotation doc?  \\\n",
       "0    Constable Blackburn on his way to NZ to extrad...          FALSE   \n",
       "1    \"May\" (error) Cameron has issued warrant for a...           TRUE   \n",
       "2    \"May\" (error) Cameron has issued warrant for a...          FALSE   \n",
       "3                             Dr McLeod arrested in NZ          FALSE   \n",
       "4    McLeod arrested in NZ for 'a serious offence u...          FALSE   \n",
       "..                                                 ...            ...   \n",
       "834  summary of legal debate and reference to M'Leo...             no   \n",
       "835  summary of legal debate and reference to M'Leo...             no   \n",
       "836  lengthy account of judges' decision that bigam...            yes   \n",
       "837  summarising legal argument from July 1919, the...             no   \n",
       "838  debate about whether marriage not formed on th...            yes   \n",
       "\n",
       "    ANALYSIS                           OFFENSE  \\\n",
       "0        NaN                            bigamy   \n",
       "1        NaN          bigamy, criminal assault   \n",
       "2        NaN          bigamy, criminal assault   \n",
       "3        NaN          bigamy, criminal assault   \n",
       "4        NaN  attempted rape (implied), bigamy   \n",
       "..       ...                               ...   \n",
       "834      NaN                            bigamy   \n",
       "835      NaN                            bigamy   \n",
       "836      NaN                            bigamy   \n",
       "837      NaN                            bigamy   \n",
       "838      NaN                            bigamy   \n",
       "\n",
       "                                                 NOTES  \\\n",
       "0                                                  NaN   \n",
       "1                                                  NaN   \n",
       "2                                                  NaN   \n",
       "3                                                  NaN   \n",
       "4    mentions the 'serious offence upon a girl' fir...   \n",
       "..                                                 ...   \n",
       "834                                                NaN   \n",
       "835                                                NaN   \n",
       "836                                                NaN   \n",
       "837                                                NaN   \n",
       "838                                                NaN   \n",
       "\n",
       "                                                  LINK  \\\n",
       "0          http://nla.gov.au/nla.news-article108799724   \n",
       "1          http://nla.gov.au/nla.news-article230620621   \n",
       "2      \\nhttp://nla.gov.au/nla.news-article230611457\\n   \n",
       "3          http://nla.gov.au/nla.news-article198890050   \n",
       "4           http://nla.gov.au/nla.news-article44048607   \n",
       "..                                                 ...   \n",
       "834  https://paperspast.natlib.govt.nz/newspapers/N...   \n",
       "835  https://paperspast.natlib.govt.nz/newspapers/W...   \n",
       "836  https://paperspast.natlib.govt.nz/newspapers/E...   \n",
       "837  \\nhttps://paperspast.natlib.govt.nz/newspapers...   \n",
       "838  \\nhttps://paperspast.natlib.govt.nz/newspapers...   \n",
       "\n",
       "                                           SAME AS...?        Date  \n",
       "0                                                  NaN  1890-03-21  \n",
       "1                                                  NaN  1890-03-21  \n",
       "2    21 March 1890, The Australian Star, 'M'Leod, M...  1890-03-22  \n",
       "3                                                  NaN  1890-03-22  \n",
       "4                                                  NaN  1890-03-22  \n",
       "..                                                 ...         ...  \n",
       "834                                                NaN  1919-07-21  \n",
       "835                                                NaN  1919-07-22  \n",
       "836                                                NaN  1919-07-31  \n",
       "837                                                NaN  1920-03-29  \n",
       "838                                                NaN  1924-12-09  \n",
       "\n",
       "[839 rows x 13 columns]"
      ]
     },
     "execution_count": 2,
     "metadata": {},
     "output_type": "execute_result"
    }
   ],
   "source": [
    "# importing data\n",
    "dfa = pd.read_csv(\"../data/McLeod.csv\")"
   ]
  },
  {
   "cell_type": "code",
   "execution_count": 8,
   "metadata": {},
   "outputs": [],
   "source": [
    "# filter to only have dates before 1892, since that's where the bulk of them are\n",
    "dfa = dfa[dfa['Date']<='1891-12-31']"
   ]
  },
  {
   "cell_type": "code",
   "execution_count": 13,
   "metadata": {},
   "outputs": [
    {
     "name": "stderr",
     "output_type": "stream",
     "text": [
      "<ipython-input-13-740dcada1ef2>:1: SettingWithCopyWarning: \n",
      "A value is trying to be set on a copy of a slice from a DataFrame.\n",
      "Try using .loc[row_indexer,col_indexer] = value instead\n",
      "\n",
      "See the caveats in the documentation: https://pandas.pydata.org/pandas-docs/stable/user_guide/indexing.html#returning-a-view-versus-a-copy\n",
      "  dfa['Total'] = 1\n"
     ]
    }
   ],
   "source": [
    "dfa['Total'] = 1"
   ]
  },
  {
   "cell_type": "code",
   "execution_count": 15,
   "metadata": {},
   "outputs": [
    {
     "data": {
      "text/plain": [
       "Index(['country', 'DATE', 'PAPER', 'HEADLINE', 'TONE', 'SUMMARY',\n",
       "       'Quotation doc?', 'ANALYSIS', 'OFFENSE', 'NOTES', 'LINK', 'SAME AS...?',\n",
       "       'Date', 'Total'],\n",
       "      dtype='object')"
      ]
     },
     "execution_count": 15,
     "metadata": {},
     "output_type": "execute_result"
    }
   ],
   "source": [
    "dfa.columns"
   ]
  },
  {
   "cell_type": "code",
   "execution_count": 27,
   "metadata": {},
   "outputs": [
    {
     "name": "stderr",
     "output_type": "stream",
     "text": [
      "<ipython-input-27-743d2fa4ffa0>:1: SettingWithCopyWarning: \n",
      "A value is trying to be set on a copy of a slice from a DataFrame.\n",
      "Try using .loc[row_indexer,col_indexer] = value instead\n",
      "\n",
      "See the caveats in the documentation: https://pandas.pydata.org/pandas-docs/stable/user_guide/indexing.html#returning-a-view-versus-a-copy\n",
      "  dfa['ddate']=pd.to_datetime(dfa['Date'])\n"
     ]
    }
   ],
   "source": [
    "# group by date\n",
    "dfa['ddate']=pd.to_datetime(dfa['Date'])\n",
    "df = dfa.groupby(by=dfa['ddate'].dt.date).size().reset_index(name='count')\n",
    "#dfa.groupby(dfa.datetime.floor('d')).size().reset_index(name='count')"
   ]
  },
  {
   "cell_type": "code",
   "execution_count": 49,
   "metadata": {},
   "outputs": [
    {
     "name": "stdout",
     "output_type": "stream",
     "text": [
      "          ddate  count    binned\n",
      "0    1890-03-19     12  (10, 25]\n",
      "1    1890-03-20      5    (1, 5]\n",
      "2    1890-03-21      5    (1, 5]\n",
      "3    1890-03-22      6   (5, 10]\n",
      "4    1890-03-24      1    (0, 1]\n",
      "..          ...    ...       ...\n",
      "138  1891-10-23      2    (1, 5]\n",
      "139  1891-10-24      4    (1, 5]\n",
      "140  1891-12-04      1    (0, 1]\n",
      "141  1891-12-12      2    (1, 5]\n",
      "142  1891-12-31      1    (0, 1]\n",
      "\n",
      "[143 rows x 3 columns]\n"
     ]
    }
   ],
   "source": [
    "bins = [0, 1, 5, 10, 25, 50]\n",
    "df['binned'] = pd.cut(df['count'], bins)\n",
    "print (df)"
   ]
  },
  {
   "cell_type": "code",
   "execution_count": 51,
   "metadata": {},
   "outputs": [
    {
     "name": "stdout",
     "output_type": "stream",
     "text": [
      "          ddate  count binned\n",
      "0    1890-03-19     12      4\n",
      "1    1890-03-20      5      2\n",
      "2    1890-03-21      5      2\n",
      "3    1890-03-22      6      3\n",
      "4    1890-03-24      1      1\n",
      "..          ...    ...    ...\n",
      "138  1891-10-23      2      2\n",
      "139  1891-10-24      4      2\n",
      "140  1891-12-04      1      1\n",
      "141  1891-12-12      2      2\n",
      "142  1891-12-31      1      1\n",
      "\n",
      "[143 rows x 3 columns]\n"
     ]
    }
   ],
   "source": [
    "# bin the counts\n",
    "bins = [0, 1, 5, 10, 25, 50]\n",
    "labels = [1,2,3,4,5]\n",
    "df['binned'] = pd.cut(df['count'], bins, labels=labels)\n",
    "print (df)"
   ]
  },
  {
   "cell_type": "code",
   "execution_count": 62,
   "metadata": {},
   "outputs": [
    {
     "data": {
      "image/png": "[encoded data removed]",
      "text/html": [
       "<div style=\"vertical-align: middle;\"><strong>from_list</strong> </div><div class=\"cmap\"><img alt=\"from_list colormap\" title=\"from_list\" style=\"border: 1px solid #555;\" src=\"data:image/png;base64,iVBORw0KGgoAAAANSUhEUgAAAgAAAABACAYAAABsv8+/AAAAGHRFWHRUaXRsZQBmcm9tX2xpc3QgY29sb3JtYXBDL89FAAAAHnRFWHREZXNjcmlwdGlvbgBmcm9tX2xpc3QgY29sb3JtYXABtCnOAAAAMHRFWHRBdXRob3IATWF0cGxvdGxpYiB2My40LjMsIGh0dHBzOi8vbWF0cGxvdGxpYi5vcmcJXfPTAAAAMnRFWHRTb2Z0d2FyZQBNYXRwbG90bGliIHYzLjQuMywgaHR0cHM6Ly9tYXRwbG90bGliLm9yZyf7bPQAAAFSSURBVHic7dbBCcJAAABBtQH7LyciPnzYgyQBX7agTYgHtzMV7HOP6/r8HPi582UZnTCd93IdnTCd27aNTpjOfd9HJ0zn8XqNTpjSaXQAAPB/BgAAggwAAAQZAAAIMgAAEGQAACDIAABAkAEAgCADAABBBgAAggwAAAQZAAAIMgAAEGQAACDIAABAkAEAgCADAABBBgAAggwAAAQZAAAIMgAAEGQAACDIAABAkAEAgCADAABBBgAAggwAAAQZAAAIMgAAEGQAACDIAABAkAEAgCADAABBBgAAggwAAAQZAAAIMgAAEGQAACDIAABAkAEAgCADAABBBgAAggwAAAQZAAAIMgAAEGQAACDIAABAkAEAgCADAABBBgAAggwAAAQZAAAIMgAAEGQAACDIAABAkAEAgCADAABBBgAAggwAAAQZAAAIMgAAEGQAACDIAABA0BeVJA/rb7/LPgAAAABJRU5ErkJggg==\"></div><div style=\"vertical-align: middle; max-width: 514px; display: flex; justify-content: space-between;\"><div style=\"float: left;\"><div title=\"#e3e3e1ff\" style=\"display: inline-block; width: 1em; height: 1em; margin: 0; vertical-align: middle; border: 1px solid #555; background-color: #e3e3e1ff;\"></div> under</div><div style=\"margin: 0 auto; display: inline-block;\">bad <div title=\"#00000000\" style=\"display: inline-block; width: 1em; height: 1em; margin: 0; vertical-align: middle; border: 1px solid #555; background-color: #00000000;\"></div></div><div style=\"float: right;\">over <div title=\"#3e1717ff\" style=\"display: inline-block; width: 1em; height: 1em; margin: 0; vertical-align: middle; border: 1px solid #555; background-color: #3e1717ff;\"></div></div>"
      ],
      "text/plain": [
       "<matplotlib.colors.ListedColormap at 0x7fd453bcbdf0>"
      ]
     },
     "execution_count": 62,
     "metadata": {},
     "output_type": "execute_result"
    }
   ],
   "source": [
    "matplotlib.colors.ListedColormap(['#e3e3e1','#f2a5a2','#e06666','#a64a4a','#702f2f','#3e1717']) "
   ]
  },
  {
   "cell_type": "code",
   "execution_count": 77,
   "metadata": {},
   "outputs": [
    {
     "data": {
      "text/plain": [
       "<AxesSubplot:title={'center':'All Newspapers'}>"
      ]
     },
     "metadata": {},
     "output_type": "display_data"
    },
    {
     "data": {
      "text/plain": [
       "<AxesSubplot:title={'center':'All Newspapers'}>"
      ]
     },
     "metadata": {},
     "output_type": "display_data"
    },
    {
     "data": {
      "text/plain": [
       "<AxesSubplot:title={'center':'All Newspapers'}>"
      ]
     },
     "metadata": {},
     "output_type": "display_data"
    },
    {
     "data": {
      "image/png": "[encoded data removed]",
      "text/plain": [
       "<Figure size 1200x500 with 1 Axes>"
      ]
     },
     "metadata": {
      "needs_background": "light"
     },
     "output_type": "display_data"
    },
    {
     "data": {
      "image/png": "[encoded data removed]",
      "text/plain": [
       "<Figure size 1200x500 with 1 Axes>"
      ]
     },
     "metadata": {
      "needs_background": "light"
     },
     "output_type": "display_data"
    },
    {
     "data": {
      "image/png": "[encoded data removed]",
      "text/plain": [
       "<Figure size 1200x500 with 1 Axes>"
      ]
     },
     "metadata": {
      "needs_background": "light"
     },
     "output_type": "display_data"
    }
   ],
   "source": [
    "# setting colour\n",
    "#f2f2ed\n",
    "#d1d1ce\n",
    "#e3e3e1\n",
    "\n",
    "# red e06666\n",
    "#colall = matplotlib.colors.LinearSegmentedColormap.from_list('', ['lightgray','#e06666']) #0,1\n",
    "colall = matplotlib.colors.LinearSegmentedColormap.from_list('', ['#e3e3e1','#ea8684','#b55353','#8b3f3f','#602c2c','#361919']) #0,1\n",
    "#colb = matplotlib.colors.LinearSegmentedColormap.from_list('', ['#e3e3e1','#f2a5a2','#e06666','#a64a4a','#702f2f','#3e1717']) #0,1\n",
    "#colb = matplotlib.colors.ListedColormap(['#e3e3e1','#f2a5a2','#e06666','#a64a4a','#702f2f','#270c0c']) \n",
    "#colb = matplotlib.colors.ListedColormap(['#e3e3e1','#f2a5a2','gold','orange','red','darkred']) \n",
    "colb = matplotlib.colors.ListedColormap(['#e3e3e1','#f9e5e5','#ffaaaa','#d46a6a','#aa3939','#550000']) \n",
    "\n",
    "# plot\n",
    "\n",
    "display(july.heatmap(dfa.Date, dfa['Total'],month_grid=True, cmap=colall, title='All Newspapers'))\n",
    "display(july.heatmap(df.ddate, df['binned'], month_grid=True, cmap=colall, title='All Newspapers'))\n",
    "display(july.heatmap(df.ddate, df['binned'], month_grid=True, cmap=colb, title='All Newspapers'))\n"
   ]
  },
  {
   "cell_type": "code",
   "execution_count": 78,
   "metadata": {},
   "outputs": [
    {
     "data": {
      "image/png": "[encoded data removed]",
      "text/html": [
       "<div style=\"vertical-align: middle;\"><strong>from_list</strong> </div><div class=\"cmap\"><img alt=\"from_list colormap\" title=\"from_list\" style=\"border: 1px solid #555;\" src=\"data:image/png;base64,iVBORw0KGgoAAAANSUhEUgAAAgAAAABACAYAAABsv8+/AAAAGHRFWHRUaXRsZQBmcm9tX2xpc3QgY29sb3JtYXBDL89FAAAAHnRFWHREZXNjcmlwdGlvbgBmcm9tX2xpc3QgY29sb3JtYXABtCnOAAAAMHRFWHRBdXRob3IATWF0cGxvdGxpYiB2My40LjMsIGh0dHBzOi8vbWF0cGxvdGxpYi5vcmcJXfPTAAAAMnRFWHRTb2Z0d2FyZQBNYXRwbG90bGliIHYzLjQuMywgaHR0cHM6Ly9tYXRwbG90bGliLm9yZyf7bPQAAAFSSURBVHic7daxDcJAAMBAiBAjsH/PEmmilKmgRwwCSyBeet9N4NLn9/v1OfFzt+UyOmE6120bnTCdx7qOTpjO8zhGJ0znvu+jE6a0jA4AAP7PAABAkAEAgCADAABBBgAAggwAAAQZAAAIMgAAEGQAACDIAABAkAEAgCADAABBBgAAggwAAAQZAAAIMgAAEGQAACDIAABAkAEAgCADAABBBgAAggwAAAQZAAAIMgAAEGQAACDIAABAkAEAgCADAABBBgAAggwAAAQZAAAIMgAAEGQAACDIAABAkAEAgCADAABBBgAAggwAAAQZAAAIMgAAEGQAACDIAABAkAEAgCADAABBBgAAggwAAAQZAAAIMgAAEGQAACDIAABAkAEAgCADAABBBgAAggwAAAQZAAAIMgAAEGQAACDIAABAkAEAgCADAABBBgAAggwAAAQZAAAI+gL9UwzUSLTbIAAAAABJRU5ErkJggg==\"></div><div style=\"vertical-align: middle; max-width: 514px; display: flex; justify-content: space-between;\"><div style=\"float: left;\"><div title=\"#e3e3e1ff\" style=\"display: inline-block; width: 1em; height: 1em; margin: 0; vertical-align: middle; border: 1px solid #555; background-color: #e3e3e1ff;\"></div> under</div><div style=\"margin: 0 auto; display: inline-block;\">bad <div title=\"#00000000\" style=\"display: inline-block; width: 1em; height: 1em; margin: 0; vertical-align: middle; border: 1px solid #555; background-color: #00000000;\"></div></div><div style=\"float: right;\">over <div title=\"#550000ff\" style=\"display: inline-block; width: 1em; height: 1em; margin: 0; vertical-align: middle; border: 1px solid #555; background-color: #550000ff;\"></div></div>"
      ],
      "text/plain": [
       "<matplotlib.colors.ListedColormap at 0x7fd454286190>"
      ]
     },
     "execution_count": 78,
     "metadata": {},
     "output_type": "execute_result"
    }
   ],
   "source": [
    "colb"
   ]
  },
  {
   "cell_type": "code",
   "execution_count": 59,
   "metadata": {},
   "outputs": [
    {
     "ename": "FileNotFoundError",
     "evalue": "[Errno 2] No such file or directory: 'ETHEL HARRIS - article count.csv'",
     "output_type": "error",
     "traceback": [
      "\u001b[0;31m---------------------------------------------------------------------------\u001b[0m",
      "\u001b[0;31mFileNotFoundError\u001b[0m                         Traceback (most recent call last)",
      "\u001b[1;32m/Users/mf/Desktop/mmethot/Bigamy_Australia/src/report4_mcleod.ipynb Cell 11\u001b[0m in \u001b[0;36m<cell line: 2>\u001b[0;34m()\u001b[0m\n\u001b[1;32m      <a href='vscode-notebook-cell:/Users/mf/Desktop/mmethot/Bigamy_Australia/src/report4_mcleod.ipynb#W1sZmlsZQ%3D%3D?line=0'>1</a>\u001b[0m \u001b[39m# some cleaning and filtering by date\u001b[39;00m\n\u001b[0;32m----> <a href='vscode-notebook-cell:/Users/mf/Desktop/mmethot/Bigamy_Australia/src/report4_mcleod.ipynb#W1sZmlsZQ%3D%3D?line=1'>2</a>\u001b[0m dfa \u001b[39m=\u001b[39m pd\u001b[39m.\u001b[39;49mread_csv(\u001b[39m\"\u001b[39;49m\u001b[39mETHEL HARRIS - article count.csv\u001b[39;49m\u001b[39m\"\u001b[39;49m)\n\u001b[1;32m      <a href='vscode-notebook-cell:/Users/mf/Desktop/mmethot/Bigamy_Australia/src/report4_mcleod.ipynb#W1sZmlsZQ%3D%3D?line=2'>3</a>\u001b[0m dfa\u001b[39m.\u001b[39mdrop(\u001b[39m130\u001b[39m, inplace\u001b[39m=\u001b[39m\u001b[39mTrue\u001b[39;00m)\n\u001b[1;32m      <a href='vscode-notebook-cell:/Users/mf/Desktop/mmethot/Bigamy_Australia/src/report4_mcleod.ipynb#W1sZmlsZQ%3D%3D?line=3'>4</a>\u001b[0m dfa[\u001b[39m'\u001b[39m\u001b[39mDATE\u001b[39m\u001b[39m'\u001b[39m] \u001b[39m=\u001b[39m pd\u001b[39m.\u001b[39mto_datetime(dfa[\u001b[39m'\u001b[39m\u001b[39mDATE\u001b[39m\u001b[39m'\u001b[39m], \u001b[39mformat\u001b[39m\u001b[39m=\u001b[39m\u001b[39m'\u001b[39m\u001b[39m%\u001b[39m\u001b[39mm/\u001b[39m\u001b[39m%d\u001b[39;00m\u001b[39m/\u001b[39m\u001b[39m%\u001b[39m\u001b[39mY\u001b[39m\u001b[39m'\u001b[39m)\n",
      "File \u001b[0;32m~/opt/miniconda3/lib/python3.9/site-packages/pandas/util/_decorators.py:311\u001b[0m, in \u001b[0;36mdeprecate_nonkeyword_arguments.<locals>.decorate.<locals>.wrapper\u001b[0;34m(*args, **kwargs)\u001b[0m\n\u001b[1;32m    305\u001b[0m \u001b[39mif\u001b[39;00m \u001b[39mlen\u001b[39m(args) \u001b[39m>\u001b[39m num_allow_args:\n\u001b[1;32m    306\u001b[0m     warnings\u001b[39m.\u001b[39mwarn(\n\u001b[1;32m    307\u001b[0m         msg\u001b[39m.\u001b[39mformat(arguments\u001b[39m=\u001b[39marguments),\n\u001b[1;32m    308\u001b[0m         \u001b[39mFutureWarning\u001b[39;00m,\n\u001b[1;32m    309\u001b[0m         stacklevel\u001b[39m=\u001b[39mstacklevel,\n\u001b[1;32m    310\u001b[0m     )\n\u001b[0;32m--> 311\u001b[0m \u001b[39mreturn\u001b[39;00m func(\u001b[39m*\u001b[39;49margs, \u001b[39m*\u001b[39;49m\u001b[39m*\u001b[39;49mkwargs)\n",
      "File \u001b[0;32m~/opt/miniconda3/lib/python3.9/site-packages/pandas/io/parsers/readers.py:680\u001b[0m, in \u001b[0;36mread_csv\u001b[0;34m(filepath_or_buffer, sep, delimiter, header, names, index_col, usecols, squeeze, prefix, mangle_dupe_cols, dtype, engine, converters, true_values, false_values, skipinitialspace, skiprows, skipfooter, nrows, na_values, keep_default_na, na_filter, verbose, skip_blank_lines, parse_dates, infer_datetime_format, keep_date_col, date_parser, dayfirst, cache_dates, iterator, chunksize, compression, thousands, decimal, lineterminator, quotechar, quoting, doublequote, escapechar, comment, encoding, encoding_errors, dialect, error_bad_lines, warn_bad_lines, on_bad_lines, delim_whitespace, low_memory, memory_map, float_precision, storage_options)\u001b[0m\n\u001b[1;32m    665\u001b[0m kwds_defaults \u001b[39m=\u001b[39m _refine_defaults_read(\n\u001b[1;32m    666\u001b[0m     dialect,\n\u001b[1;32m    667\u001b[0m     delimiter,\n\u001b[0;32m   (...)\u001b[0m\n\u001b[1;32m    676\u001b[0m     defaults\u001b[39m=\u001b[39m{\u001b[39m\"\u001b[39m\u001b[39mdelimiter\u001b[39m\u001b[39m\"\u001b[39m: \u001b[39m\"\u001b[39m\u001b[39m,\u001b[39m\u001b[39m\"\u001b[39m},\n\u001b[1;32m    677\u001b[0m )\n\u001b[1;32m    678\u001b[0m kwds\u001b[39m.\u001b[39mupdate(kwds_defaults)\n\u001b[0;32m--> 680\u001b[0m \u001b[39mreturn\u001b[39;00m _read(filepath_or_buffer, kwds)\n",
      "File \u001b[0;32m~/opt/miniconda3/lib/python3.9/site-packages/pandas/io/parsers/readers.py:575\u001b[0m, in \u001b[0;36m_read\u001b[0;34m(filepath_or_buffer, kwds)\u001b[0m\n\u001b[1;32m    572\u001b[0m _validate_names(kwds\u001b[39m.\u001b[39mget(\u001b[39m\"\u001b[39m\u001b[39mnames\u001b[39m\u001b[39m\"\u001b[39m, \u001b[39mNone\u001b[39;00m))\n\u001b[1;32m    574\u001b[0m \u001b[39m# Create the parser.\u001b[39;00m\n\u001b[0;32m--> 575\u001b[0m parser \u001b[39m=\u001b[39m TextFileReader(filepath_or_buffer, \u001b[39m*\u001b[39;49m\u001b[39m*\u001b[39;49mkwds)\n\u001b[1;32m    577\u001b[0m \u001b[39mif\u001b[39;00m chunksize \u001b[39mor\u001b[39;00m iterator:\n\u001b[1;32m    578\u001b[0m     \u001b[39mreturn\u001b[39;00m parser\n",
      "File \u001b[0;32m~/opt/miniconda3/lib/python3.9/site-packages/pandas/io/parsers/readers.py:934\u001b[0m, in \u001b[0;36mTextFileReader.__init__\u001b[0;34m(self, f, engine, **kwds)\u001b[0m\n\u001b[1;32m    931\u001b[0m     \u001b[39mself\u001b[39m\u001b[39m.\u001b[39moptions[\u001b[39m\"\u001b[39m\u001b[39mhas_index_names\u001b[39m\u001b[39m\"\u001b[39m] \u001b[39m=\u001b[39m kwds[\u001b[39m\"\u001b[39m\u001b[39mhas_index_names\u001b[39m\u001b[39m\"\u001b[39m]\n\u001b[1;32m    933\u001b[0m \u001b[39mself\u001b[39m\u001b[39m.\u001b[39mhandles: IOHandles \u001b[39m|\u001b[39m \u001b[39mNone\u001b[39;00m \u001b[39m=\u001b[39m \u001b[39mNone\u001b[39;00m\n\u001b[0;32m--> 934\u001b[0m \u001b[39mself\u001b[39m\u001b[39m.\u001b[39m_engine \u001b[39m=\u001b[39m \u001b[39mself\u001b[39;49m\u001b[39m.\u001b[39;49m_make_engine(f, \u001b[39mself\u001b[39;49m\u001b[39m.\u001b[39;49mengine)\n",
      "File \u001b[0;32m~/opt/miniconda3/lib/python3.9/site-packages/pandas/io/parsers/readers.py:1218\u001b[0m, in \u001b[0;36mTextFileReader._make_engine\u001b[0;34m(self, f, engine)\u001b[0m\n\u001b[1;32m   1214\u001b[0m     mode \u001b[39m=\u001b[39m \u001b[39m\"\u001b[39m\u001b[39mrb\u001b[39m\u001b[39m\"\u001b[39m\n\u001b[1;32m   1215\u001b[0m \u001b[39m# error: No overload variant of \"get_handle\" matches argument types\u001b[39;00m\n\u001b[1;32m   1216\u001b[0m \u001b[39m# \"Union[str, PathLike[str], ReadCsvBuffer[bytes], ReadCsvBuffer[str]]\"\u001b[39;00m\n\u001b[1;32m   1217\u001b[0m \u001b[39m# , \"str\", \"bool\", \"Any\", \"Any\", \"Any\", \"Any\", \"Any\"\u001b[39;00m\n\u001b[0;32m-> 1218\u001b[0m \u001b[39mself\u001b[39m\u001b[39m.\u001b[39mhandles \u001b[39m=\u001b[39m get_handle(  \u001b[39m# type: ignore[call-overload]\u001b[39;49;00m\n\u001b[1;32m   1219\u001b[0m     f,\n\u001b[1;32m   1220\u001b[0m     mode,\n\u001b[1;32m   1221\u001b[0m     encoding\u001b[39m=\u001b[39;49m\u001b[39mself\u001b[39;49m\u001b[39m.\u001b[39;49moptions\u001b[39m.\u001b[39;49mget(\u001b[39m\"\u001b[39;49m\u001b[39mencoding\u001b[39;49m\u001b[39m\"\u001b[39;49m, \u001b[39mNone\u001b[39;49;00m),\n\u001b[1;32m   1222\u001b[0m     compression\u001b[39m=\u001b[39;49m\u001b[39mself\u001b[39;49m\u001b[39m.\u001b[39;49moptions\u001b[39m.\u001b[39;49mget(\u001b[39m\"\u001b[39;49m\u001b[39mcompression\u001b[39;49m\u001b[39m\"\u001b[39;49m, \u001b[39mNone\u001b[39;49;00m),\n\u001b[1;32m   1223\u001b[0m     memory_map\u001b[39m=\u001b[39;49m\u001b[39mself\u001b[39;49m\u001b[39m.\u001b[39;49moptions\u001b[39m.\u001b[39;49mget(\u001b[39m\"\u001b[39;49m\u001b[39mmemory_map\u001b[39;49m\u001b[39m\"\u001b[39;49m, \u001b[39mFalse\u001b[39;49;00m),\n\u001b[1;32m   1224\u001b[0m     is_text\u001b[39m=\u001b[39;49mis_text,\n\u001b[1;32m   1225\u001b[0m     errors\u001b[39m=\u001b[39;49m\u001b[39mself\u001b[39;49m\u001b[39m.\u001b[39;49moptions\u001b[39m.\u001b[39;49mget(\u001b[39m\"\u001b[39;49m\u001b[39mencoding_errors\u001b[39;49m\u001b[39m\"\u001b[39;49m, \u001b[39m\"\u001b[39;49m\u001b[39mstrict\u001b[39;49m\u001b[39m\"\u001b[39;49m),\n\u001b[1;32m   1226\u001b[0m     storage_options\u001b[39m=\u001b[39;49m\u001b[39mself\u001b[39;49m\u001b[39m.\u001b[39;49moptions\u001b[39m.\u001b[39;49mget(\u001b[39m\"\u001b[39;49m\u001b[39mstorage_options\u001b[39;49m\u001b[39m\"\u001b[39;49m, \u001b[39mNone\u001b[39;49;00m),\n\u001b[1;32m   1227\u001b[0m )\n\u001b[1;32m   1228\u001b[0m \u001b[39massert\u001b[39;00m \u001b[39mself\u001b[39m\u001b[39m.\u001b[39mhandles \u001b[39mis\u001b[39;00m \u001b[39mnot\u001b[39;00m \u001b[39mNone\u001b[39;00m\n\u001b[1;32m   1229\u001b[0m f \u001b[39m=\u001b[39m \u001b[39mself\u001b[39m\u001b[39m.\u001b[39mhandles\u001b[39m.\u001b[39mhandle\n",
      "File \u001b[0;32m~/opt/miniconda3/lib/python3.9/site-packages/pandas/io/common.py:786\u001b[0m, in \u001b[0;36mget_handle\u001b[0;34m(path_or_buf, mode, encoding, compression, memory_map, is_text, errors, storage_options)\u001b[0m\n\u001b[1;32m    781\u001b[0m \u001b[39melif\u001b[39;00m \u001b[39misinstance\u001b[39m(handle, \u001b[39mstr\u001b[39m):\n\u001b[1;32m    782\u001b[0m     \u001b[39m# Check whether the filename is to be opened in binary mode.\u001b[39;00m\n\u001b[1;32m    783\u001b[0m     \u001b[39m# Binary mode does not support 'encoding' and 'newline'.\u001b[39;00m\n\u001b[1;32m    784\u001b[0m     \u001b[39mif\u001b[39;00m ioargs\u001b[39m.\u001b[39mencoding \u001b[39mand\u001b[39;00m \u001b[39m\"\u001b[39m\u001b[39mb\u001b[39m\u001b[39m\"\u001b[39m \u001b[39mnot\u001b[39;00m \u001b[39min\u001b[39;00m ioargs\u001b[39m.\u001b[39mmode:\n\u001b[1;32m    785\u001b[0m         \u001b[39m# Encoding\u001b[39;00m\n\u001b[0;32m--> 786\u001b[0m         handle \u001b[39m=\u001b[39m \u001b[39mopen\u001b[39;49m(\n\u001b[1;32m    787\u001b[0m             handle,\n\u001b[1;32m    788\u001b[0m             ioargs\u001b[39m.\u001b[39;49mmode,\n\u001b[1;32m    789\u001b[0m             encoding\u001b[39m=\u001b[39;49mioargs\u001b[39m.\u001b[39;49mencoding,\n\u001b[1;32m    790\u001b[0m             errors\u001b[39m=\u001b[39;49merrors,\n\u001b[1;32m    791\u001b[0m             newline\u001b[39m=\u001b[39;49m\u001b[39m\"\u001b[39;49m\u001b[39m\"\u001b[39;49m,\n\u001b[1;32m    792\u001b[0m         )\n\u001b[1;32m    793\u001b[0m     \u001b[39melse\u001b[39;00m:\n\u001b[1;32m    794\u001b[0m         \u001b[39m# Binary mode\u001b[39;00m\n\u001b[1;32m    795\u001b[0m         handle \u001b[39m=\u001b[39m \u001b[39mopen\u001b[39m(handle, ioargs\u001b[39m.\u001b[39mmode)\n",
      "\u001b[0;31mFileNotFoundError\u001b[0m: [Errno 2] No such file or directory: 'ETHEL HARRIS - article count.csv'"
     ]
    }
   ],
   "source": [
    "# some cleaning and filtering by date\n",
    "dfa = pd.read_csv(\"ETHEL HARRIS - article count.csv\")\n",
    "dfa.drop(130, inplace=True)\n",
    "dfa['DATE'] = pd.to_datetime(dfa['DATE'], format='%m/%d/%Y')\n",
    "dfa = dfa[dfa['DATE']<'1911-4-1']\n",
    "\n",
    "\n",
    "# setting into binary\n",
    "# I know there must be an easier way, maybe with lapply, but this was faster for me to just do since its onl 5 rows\n",
    "# rather than spending longer figuring out the faster way\n",
    "dfa.loc[dfa['Daily News']>0,'Daily News'] = 1\n",
    "dfa.loc[dfa['Kalgoorlie Miner']>0,'Kalgoorlie Miner'] = 1\n",
    "dfa.loc[dfa['Kalgoorlie Miner']>0,'Kalgoorlie Miner'] = 1\n",
    "dfa.loc[dfa['Sunday Times']>0,'Sunday Times'] = 1\n",
    "dfa.loc[dfa['The West Australian']>0,'The West Australian'] = 1\n",
    "dfa.loc[dfa['Total']>0,'Total'] = 1\n",
    "\n",
    "# remove times when Sunday Times has one when not on Sunday\n",
    "dfa = dfa.set_index('DATE')\n",
    "dfa.loc[dfa.index.dayofweek != 6,'Sunday Times'] = 0\n",
    "dfa.reset_index(inplace=True)\n",
    "\n",
    "\n",
    "# setting colours\n",
    "colall = matplotlib.colors.LinearSegmentedColormap.from_list('', ['lightgray','#e06666']) #0,1\n",
    "coldaily = matplotlib.colors.LinearSegmentedColormap.from_list('', ['lightgray','#f6b26b'])\n",
    "colkal = matplotlib.colors.LinearSegmentedColormap.from_list('', ['lightgray','#93c47d'])\n",
    "colsun = matplotlib.colors.LinearSegmentedColormap.from_list('', ['lightgray','#6fa8dc'])\n",
    "colwest = matplotlib.colors.LinearSegmentedColormap.from_list('', ['lightgray','#8e7cc3'])\n",
    "\n",
    "# the plots! :)\n",
    "display(july.heatmap(dfa.DATE, dfa['Total'],month_grid=True, cmap=colall, title='All 4 Newspapers'))\n",
    "display(july.heatmap(dfa.DATE, dfa.iloc[:,1],month_grid=True, cmap=coldaily, title = '$Daily\\ News$'))\n",
    "display(july.heatmap(dfa.DATE, dfa.iloc[:,2],month_grid=True, cmap=colkal, title = '$Kalgoorlie\\ Miner$'))\n",
    "display(july.heatmap(dfa.DATE, dfa.iloc[:,3],month_grid=True, cmap=colsun, title = '$Sunday\\ Times$'))\n",
    "display(july.heatmap(dfa.DATE, dfa.iloc[:,4],month_grid=True, cmap=colwest, title = '$The\\ West\\ Australian$'))"
   ]
  },
  {
   "cell_type": "code",
   "execution_count": null,
   "metadata": {},
   "outputs": [],
   "source": []
  },
  {
   "cell_type": "code",
   "execution_count": 198,
   "metadata": {},
   "outputs": [
    {
     "data": {
      "image/png": "[encoded data removed]",
      "text/plain": [
       "<Figure size 1600x800 with 2 Axes>"
      ]
     },
     "metadata": {
      "needs_background": "light"
     },
     "output_type": "display_data"
    }
   ],
   "source": [
    "#### EXPLORATION I DIDN'T USE\n",
    "# exploring using full dataset\n",
    "df = pd.read_csv(\"ETHEL HARRIS - Sheet10.csv\", parse_dates=True)\n",
    "df = df.iloc[:,[0,2]]\n",
    "\n",
    "# some cleaning\n",
    "df['DATE'] = pd.to_datetime(df['DATE'], format='%m/%d/%Y')\n",
    "df.loc[df['PAPER'].str.contains('Kalgoor'),'PAPER'] = 'Kalgoorlie Miner'\n",
    "df.loc[df['PAPER'].str.contains('Daily'), 'PAPER'] = 'Daily News'\n",
    "\n",
    "\n",
    "# was going to try to find when there's 0 with NAs\n",
    "drange = pd.date_range('1910-10-13','1911-4-1', freq='D')\n",
    "dfrange = drange.to_frame(index=False)\n",
    "dfrange.rename(columns={0:'DATE'}, inplace=True)\n",
    "fulldf = pd.merge(dfrange, df, how='outer')\n",
    "\n",
    "\n",
    "# tick plot\n",
    "tick = alt.Chart(df[df['DATE']<'1911-4-1'],title=alt.TitleParams(\n",
    "    text = \"Case mentionned essentially daily in peak!\",\n",
    "    subtitle = \"Ethel guy essentially 'tried by the public'\",\n",
    "    anchor = 'start'\n",
    ")).mark_tick().encode(\n",
    "    alt.X('DATE', title = ''),\n",
    "    alt.Y('PAPER', title=None),\n",
    "    alt.Color('PAPER', legend=None)\n",
    ").properties(height = 100).configure_title(fontSize=20).configure_axis(titleFontSize=12)\n",
    "tick\n",
    "\n",
    "# altair heatmap\n",
    "alt.Chart(df[df['DATE']<'1911-4-1']).mark_rect().encode(\n",
    "    alt.X('yearmonthdate(DATE):O'),\n",
    "    alt.Y('PAPER'),\n",
    "    alt.Color('count()')\n",
    ")\n",
    "\n",
    "\n",
    "# setting index, didn't end up needing\n",
    "dfb = dfa.set_index('DATE')\n",
    "\n",
    "# trying out calplot\n",
    "import calplot\n",
    "pl1 = calplot.calplot(data = dfb['Total'], cmap = 'Pastel1',\n",
    "                      figsize = (16, 8), suptitle = \"Total Sales by Month and Year\")"
   ]
  },
  {
   "attachments": {},
   "cell_type": "markdown",
   "metadata": {},
   "source": [
    "Source where I got plot inspiration\n",
    "\n",
    "https://12ft.io/proxy?q=https%3A%2F%2Fmedium.com%2Fanalytics-vidhya%2Fcalendar-heatmaps-a-perfect-way-to-display-your-time-series-quantitative-data-ad36bf81a3ed"
   ]
  },
  {
   "attachments": {},
   "cell_type": "markdown",
   "metadata": {},
   "source": []
  }
 ],
 "metadata": {
  "kernelspec": {
   "display_name": "base",
   "language": "python",
   "name": "python3"
  },
  "language_info": {
   "codemirror_mode": {
    "name": "ipython",
    "version": 3
   },
   "file_extension": ".py",
   "mimetype": "text/x-python",
   "name": "python",
   "nbconvert_exporter": "python",
   "pygments_lexer": "ipython3",
   "version": "3.9.12"
  },
  "orig_nbformat": 4,
  "vscode": {
   "interpreter": {
    "hash": "9ec608e29b5510148f134c44880988ebb2ac66a41f02b54b9de95ee57be27d06"
   }
  }
 },
 "nbformat": 4,
 "nbformat_minor": 2
}
